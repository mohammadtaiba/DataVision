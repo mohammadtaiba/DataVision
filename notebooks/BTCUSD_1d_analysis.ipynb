{
 "cells": [
  {
   "cell_type": "markdown",
   "id": "e759b63dea2df719",
   "metadata": {},
   "source": [
    "## Data Description Report erstellen:"
   ]
  },
  {
   "cell_type": "code",
   "id": "360ce8cf32429dee",
   "metadata": {},
   "source": [
    "# Data Description Report:\n",
    "\n",
    "import pandas as pd\n",
    "\n",
    "df = pd.read_csv(\"../dataset/input/BTCUSD_1d_analysis.csv\")\n",
    "\n",
    "print(\"🧾 Allgemeine Datenstruktur:\")\n",
    "display(df.info())\n",
    "\n",
    "print(\"📌 Fehlende Werte:\")\n",
    "display(df.isnull().sum())\n",
    "\n",
    "print(\"🔍 Statistische Übersicht:\")\n",
    "display(df.describe())\n",
    "\n",
    "print(\"📅 Erste Zeilen der Daten:\")\n",
    "display(df.head())"
   ],
   "outputs": [],
   "execution_count": null
  },
  {
   "cell_type": "markdown",
   "id": "ccb311779f1aa70d",
   "metadata": {},
   "source": "## Datenbereinigung & Aufbereitung"
  },
  {
   "metadata": {},
   "cell_type": "code",
   "source": [
    "import pandas as pd\n",
    "\n",
    "# 1. Pfade anpassen\n",
    "csv_path   = '../dataset/input/BTCUSD_1d_analysis.csv'\n",
    "clean_path = '../dataset/output/BTCUSD_1d_analysis_clean.csv'\n",
    "\n",
    "# 2. Daten einlesen\n",
    "df = pd.read_csv(csv_path)\n",
    "\n",
    "# 3. Spaltennamen standardisieren\n",
    "df.columns = [col.lower().replace(' ', '_') for col in df.columns]\n",
    "\n",
    "# 4. Datum parsen mit Zeitzone\n",
    "df['date'] = pd.to_datetime(df['date'], errors='coerce', utc=True)\n",
    "\n",
    "# 5. Duplikate und fehlende Werte entfernen\n",
    "keep_cols = ['date', 'open', 'high', 'low', 'close', 'volume_usd']\n",
    "df = df.drop_duplicates(subset=['date'])\n",
    "df = df.dropna(subset=keep_cols)\n",
    "\n",
    "# 6. Nur gewünschte Spalten behalten und umbenennen\n",
    "df = df[keep_cols].rename(columns={\n",
    "    'date': 'date_btc',\n",
    "    'open': 'open_btc',\n",
    "    'high': 'high_btc',\n",
    "    'low':  'low_btc',\n",
    "    'close':'close_btc',\n",
    "    'volume_usd': 'volume_usd_btc'\n",
    "})\n",
    "\n",
    "# 7. Sortieren und Index zurücksetzen\n",
    "df = df.sort_values('date_btc').reset_index(drop=True)\n",
    "\n",
    "# 8. Speichern und Kontrolle\n",
    "df.to_csv(clean_path, index=False)\n",
    "print(df.head())"
   ],
   "id": "a2b134c629ec1e7c",
   "outputs": [],
   "execution_count": null
  }
 ],
 "metadata": {
  "kernelspec": {
   "display_name": "venv",
   "language": "python",
   "name": "python3"
  },
  "language_info": {
   "codemirror_mode": {
    "name": "ipython",
    "version": 3
   },
   "file_extension": ".py",
   "mimetype": "text/x-python",
   "name": "python",
   "nbconvert_exporter": "python",
   "pygments_lexer": "ipython3",
   "version": "3.13.3"
  }
 },
 "nbformat": 4,
 "nbformat_minor": 5
}
