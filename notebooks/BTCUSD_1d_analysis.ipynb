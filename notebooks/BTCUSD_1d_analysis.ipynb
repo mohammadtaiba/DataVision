{
 "cells": [
  {
   "metadata": {},
   "cell_type": "markdown",
   "source": "## Data Description Report erstellen:",
   "id": "e759b63dea2df719"
  },
  {
   "metadata": {},
   "cell_type": "code",
   "source": [
    "# Data Description Report:\n",
    "\n",
    "import pandas as pd\n",
    "\n",
    "df = pd.read_csv(\"../dataset/BTCUSD_1d_analysis.csv\")\n",
    "\n",
    "print(\"🧾 Allgemeine Datenstruktur:\")\n",
    "display(df.info())\n",
    "\n",
    "print(\"📌 Fehlende Werte:\")\n",
    "display(df.isnull().sum())\n",
    "\n",
    "print(\"🔍 Statistische Übersicht:\")\n",
    "display(df.describe())\n",
    "\n",
    "print(\"📅 Erste Zeilen der Daten:\")\n",
    "display(df.head())"
   ],
   "id": "360ce8cf32429dee",
   "outputs": [],
   "execution_count": null
  }
 ],
 "metadata": {
  "kernelspec": {
   "display_name": "Python 3",
   "language": "python",
   "name": "python3"
  },
  "language_info": {
   "codemirror_mode": {
    "name": "ipython",
    "version": 2
   },
   "file_extension": ".py",
   "mimetype": "text/x-python",
   "name": "python",
   "nbconvert_exporter": "python",
   "pygments_lexer": "ipython2",
   "version": "2.7.6"
  }
 },
 "nbformat": 4,
 "nbformat_minor": 5
}
