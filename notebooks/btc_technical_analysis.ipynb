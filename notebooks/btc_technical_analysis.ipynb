{
 "cells": [
  {
   "metadata": {
    "ExecuteTime": {
     "end_time": "2025-05-18T16:43:36.703373Z",
     "start_time": "2025-05-18T16:43:34.532309Z"
    }
   },
   "cell_type": "code",
   "source": [
    "# https://huggingface.co/datasets/WinkingFace/CryptoLM-Bitcoin-BTC-USDT?library=datasets\n",
    "\n",
    "from datasets import load_dataset\n",
    "\n",
    "ds = load_dataset(\"WinkingFace/CryptoLM-Bitcoin-BTC-USDT\")"
   ],
   "id": "cbc6619762701ea3",
   "outputs": [
    {
     "data": {
      "text/plain": [
       "Resolving data files:   0%|          | 0/92 [00:00<?, ?it/s]"
      ],
      "application/vnd.jupyter.widget-view+json": {
       "version_major": 2,
       "version_minor": 0,
       "model_id": "a6533fb8f6b24e108ff022d0e9060680"
      }
     },
     "metadata": {},
     "output_type": "display_data"
    }
   ],
   "execution_count": 4
  }
 ],
 "metadata": {},
 "nbformat": 4,
 "nbformat_minor": 5
}
