{
 "cells": [
  {
   "metadata": {},
   "cell_type": "markdown",
   "source": "## Datenintegration BTC + XAU",
   "id": "77881c4aefbf50b0"
  },
  {
   "cell_type": "code",
   "id": "initial_id",
   "metadata": {
    "collapsed": true,
    "ExecuteTime": {
     "end_time": "2025-05-31T10:37:36.323813Z",
     "start_time": "2025-05-31T10:37:35.528533Z"
    }
   },
   "source": [
    "import pandas as pd\n",
    "\n",
    "# Pfade zu den bereinigten CSV-Dateien\n",
    "df_btc = pd.read_csv('../dataset/output/BTCUSD_1d_analysis_clean.csv', parse_dates=['date_btc'])\n",
    "df_xau = pd.read_csv('../dataset/output/XAUUSD_1d_analysis_clean.csv', parse_dates=['date_xau'])\n",
    "\n",
    "# Schritt 1: Spalten für Join vereinheitlichen\n",
    "df_btc = df_btc.rename(columns={'date_btc': 'date'})\n",
    "df_xau = df_xau.rename(columns={'date_xau': 'date'})\n",
    "\n",
    "# Schritt 2: Mergen der Datensätze anhand des Datums\n",
    "merged_df = pd.merge(df_btc, df_xau, on='date', how='inner')\n",
    "\n",
    "# Schritt 3: Sortieren und Speichern\n",
    "merged_df = merged_df.sort_values('date').reset_index(drop=True)\n",
    "merged_df.to_csv('../dataset/output/final_merged_dataset.csv', index=False)\n",
    "print(merged_df.head())"
   ],
   "outputs": [
    {
     "name": "stdout",
     "output_type": "stream",
     "text": [
      "                       date  open_btc  high_btc  low_btc  close_btc  \\\n",
      "0 2014-11-28 00:00:00+00:00    363.59    381.34   360.57     376.28   \n",
      "1 2014-12-01 00:00:00+00:00    376.40    382.31   373.03     378.39   \n",
      "2 2014-12-02 00:00:00+00:00    378.39    382.86   375.23     379.25   \n",
      "3 2014-12-03 00:00:00+00:00    379.25    383.00   374.23     376.67   \n",
      "4 2014-12-04 00:00:00+00:00    376.67    378.99   360.01     365.20   \n",
      "\n",
      "   volume_usd_btc open_xau high_xau  low_xau close_xau  volume_xau  \n",
      "0         8617.15  1188.92  1190.64  1165.06   1165.88       68176  \n",
      "1         6660.56  1158.49   1220.8  1141.74    1210.8      138509  \n",
      "2         6832.53  1211.04  1212.51  1191.85    1198.5      104108  \n",
      "3         7908.29  1197.07  1214.96  1194.22   1209.47       66218  \n",
      "4         8865.09  1208.55  1213.28  1201.17   1205.45       64221  \n"
     ]
    }
   ],
   "execution_count": 1
  }
 ],
 "metadata": {
  "kernelspec": {
   "display_name": "Python 3",
   "language": "python",
   "name": "python3"
  },
  "language_info": {
   "codemirror_mode": {
    "name": "ipython",
    "version": 2
   },
   "file_extension": ".py",
   "mimetype": "text/x-python",
   "name": "python",
   "nbconvert_exporter": "python",
   "pygments_lexer": "ipython2",
   "version": "2.7.6"
  }
 },
 "nbformat": 4,
 "nbformat_minor": 5
}
