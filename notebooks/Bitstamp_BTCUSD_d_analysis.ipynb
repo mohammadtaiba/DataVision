{
 "cells": [
  {
   "metadata": {
    "ExecuteTime": {
     "end_time": "2025-04-20T15:39:10.192271Z",
     "start_time": "2025-04-20T15:39:09.880451Z"
    }
   },
   "cell_type": "code",
   "source": "",
   "id": "360ce8cf32429dee",
   "outputs": [
    {
     "ename": "AttributeError",
     "evalue": "partially initialized module 'pandas' from 'C:\\Users\\moham\\IdeaProjects\\DataVision\\.venv\\Lib\\site-packages\\pandas\\__init__.py' has no attribute '_pandas_parser_CAPI' (most likely due to a circular import)",
     "output_type": "error",
     "traceback": [
      "\u001B[31m---------------------------------------------------------------------------\u001B[39m",
      "\u001B[31mAttributeError\u001B[39m                            Traceback (most recent call last)",
      "\u001B[36mCell\u001B[39m\u001B[36m \u001B[39m\u001B[32mIn[6]\u001B[39m\u001B[32m, line 4\u001B[39m\n\u001B[32m      1\u001B[39m \u001B[38;5;66;03m# 📊 Crypto Market Analysis - DataVisionX\u001B[39;00m\n\u001B[32m      2\u001B[39m \n\u001B[32m      3\u001B[39m \u001B[38;5;66;03m# 📦 Importieren der Bibliotheken\u001B[39;00m\n\u001B[32m----> \u001B[39m\u001B[32m4\u001B[39m \u001B[38;5;28;01mimport\u001B[39;00m\u001B[38;5;250m \u001B[39m\u001B[34;01mpandas\u001B[39;00m\u001B[38;5;250m \u001B[39m\u001B[38;5;28;01mas\u001B[39;00m\u001B[38;5;250m \u001B[39m\u001B[34;01mpd\u001B[39;00m\n\u001B[32m      5\u001B[39m \u001B[38;5;28;01mimport\u001B[39;00m\u001B[38;5;250m \u001B[39m\u001B[34;01mmatplotlib\u001B[39;00m\u001B[34;01m.\u001B[39;00m\u001B[34;01mpyplot\u001B[39;00m\u001B[38;5;250m \u001B[39m\u001B[38;5;28;01mas\u001B[39;00m\u001B[38;5;250m \u001B[39m\u001B[34;01mplt\u001B[39;00m\n\u001B[32m      6\u001B[39m \u001B[38;5;28;01mimport\u001B[39;00m\u001B[38;5;250m \u001B[39m\u001B[34;01mseaborn\u001B[39;00m\u001B[38;5;250m \u001B[39m\u001B[38;5;28;01mas\u001B[39;00m\u001B[38;5;250m \u001B[39m\u001B[34;01msns\u001B[39;00m\n",
      "\u001B[36mFile \u001B[39m\u001B[32m~\\IdeaProjects\\DataVision\\.venv\\Lib\\site-packages\\pandas\\__init__.py:62\u001B[39m\n\u001B[32m     59\u001B[39m \u001B[38;5;66;03m# let init-time option registration happen\u001B[39;00m\n\u001B[32m     60\u001B[39m \u001B[38;5;28;01mimport\u001B[39;00m\u001B[38;5;250m \u001B[39m\u001B[34;01mpandas\u001B[39;00m\u001B[34;01m.\u001B[39;00m\u001B[34;01mcore\u001B[39;00m\u001B[34;01m.\u001B[39;00m\u001B[34;01mconfig_init\u001B[39;00m  \u001B[38;5;66;03m# pyright: ignore[reportUnusedImport] # noqa: F401\u001B[39;00m\n\u001B[32m---> \u001B[39m\u001B[32m62\u001B[39m \u001B[38;5;28;01mfrom\u001B[39;00m\u001B[38;5;250m \u001B[39m\u001B[34;01mpandas\u001B[39;00m\u001B[34;01m.\u001B[39;00m\u001B[34;01mcore\u001B[39;00m\u001B[34;01m.\u001B[39;00m\u001B[34;01mapi\u001B[39;00m\u001B[38;5;250m \u001B[39m\u001B[38;5;28;01mimport\u001B[39;00m (\n\u001B[32m     63\u001B[39m     \u001B[38;5;66;03m# dtype\u001B[39;00m\n\u001B[32m     64\u001B[39m     ArrowDtype,\n\u001B[32m     65\u001B[39m     Int8Dtype,\n\u001B[32m     66\u001B[39m     Int16Dtype,\n\u001B[32m     67\u001B[39m     Int32Dtype,\n\u001B[32m     68\u001B[39m     Int64Dtype,\n\u001B[32m     69\u001B[39m     UInt8Dtype,\n\u001B[32m     70\u001B[39m     UInt16Dtype,\n\u001B[32m     71\u001B[39m     UInt32Dtype,\n\u001B[32m     72\u001B[39m     UInt64Dtype,\n\u001B[32m     73\u001B[39m     Float32Dtype,\n\u001B[32m     74\u001B[39m     Float64Dtype,\n\u001B[32m     75\u001B[39m     CategoricalDtype,\n\u001B[32m     76\u001B[39m     PeriodDtype,\n\u001B[32m     77\u001B[39m     IntervalDtype,\n\u001B[32m     78\u001B[39m     DatetimeTZDtype,\n\u001B[32m     79\u001B[39m     StringDtype,\n\u001B[32m     80\u001B[39m     BooleanDtype,\n\u001B[32m     81\u001B[39m     \u001B[38;5;66;03m# missing\u001B[39;00m\n\u001B[32m     82\u001B[39m     NA,\n\u001B[32m     83\u001B[39m     isna,\n\u001B[32m     84\u001B[39m     isnull,\n\u001B[32m     85\u001B[39m     notna,\n\u001B[32m     86\u001B[39m     notnull,\n\u001B[32m     87\u001B[39m     \u001B[38;5;66;03m# indexes\u001B[39;00m\n\u001B[32m     88\u001B[39m     Index,\n\u001B[32m     89\u001B[39m     CategoricalIndex,\n\u001B[32m     90\u001B[39m     RangeIndex,\n\u001B[32m     91\u001B[39m     MultiIndex,\n\u001B[32m     92\u001B[39m     IntervalIndex,\n\u001B[32m     93\u001B[39m     TimedeltaIndex,\n\u001B[32m     94\u001B[39m     DatetimeIndex,\n\u001B[32m     95\u001B[39m     PeriodIndex,\n\u001B[32m     96\u001B[39m     IndexSlice,\n\u001B[32m     97\u001B[39m     \u001B[38;5;66;03m# tseries\u001B[39;00m\n\u001B[32m     98\u001B[39m     NaT,\n\u001B[32m     99\u001B[39m     Period,\n\u001B[32m    100\u001B[39m     period_range,\n\u001B[32m    101\u001B[39m     Timedelta,\n\u001B[32m    102\u001B[39m     timedelta_range,\n\u001B[32m    103\u001B[39m     Timestamp,\n\u001B[32m    104\u001B[39m     date_range,\n\u001B[32m    105\u001B[39m     bdate_range,\n\u001B[32m    106\u001B[39m     Interval,\n\u001B[32m    107\u001B[39m     interval_range,\n\u001B[32m    108\u001B[39m     DateOffset,\n\u001B[32m    109\u001B[39m     \u001B[38;5;66;03m# conversion\u001B[39;00m\n\u001B[32m    110\u001B[39m     to_numeric,\n\u001B[32m    111\u001B[39m     to_datetime,\n\u001B[32m    112\u001B[39m     to_timedelta,\n\u001B[32m    113\u001B[39m     \u001B[38;5;66;03m# misc\u001B[39;00m\n\u001B[32m    114\u001B[39m     Flags,\n\u001B[32m    115\u001B[39m     Grouper,\n\u001B[32m    116\u001B[39m     factorize,\n\u001B[32m    117\u001B[39m     unique,\n\u001B[32m    118\u001B[39m     value_counts,\n\u001B[32m    119\u001B[39m     NamedAgg,\n\u001B[32m    120\u001B[39m     array,\n\u001B[32m    121\u001B[39m     Categorical,\n\u001B[32m    122\u001B[39m     set_eng_float_format,\n\u001B[32m    123\u001B[39m     Series,\n\u001B[32m    124\u001B[39m     DataFrame,\n\u001B[32m    125\u001B[39m )\n\u001B[32m    127\u001B[39m \u001B[38;5;28;01mfrom\u001B[39;00m\u001B[38;5;250m \u001B[39m\u001B[34;01mpandas\u001B[39;00m\u001B[34;01m.\u001B[39;00m\u001B[34;01mcore\u001B[39;00m\u001B[34;01m.\u001B[39;00m\u001B[34;01mdtypes\u001B[39;00m\u001B[34;01m.\u001B[39;00m\u001B[34;01mdtypes\u001B[39;00m\u001B[38;5;250m \u001B[39m\u001B[38;5;28;01mimport\u001B[39;00m SparseDtype\n\u001B[32m    129\u001B[39m \u001B[38;5;28;01mfrom\u001B[39;00m\u001B[38;5;250m \u001B[39m\u001B[34;01mpandas\u001B[39;00m\u001B[34;01m.\u001B[39;00m\u001B[34;01mtseries\u001B[39;00m\u001B[34;01m.\u001B[39;00m\u001B[34;01mapi\u001B[39;00m\u001B[38;5;250m \u001B[39m\u001B[38;5;28;01mimport\u001B[39;00m infer_freq\n",
      "\u001B[36mFile \u001B[39m\u001B[32m~\\IdeaProjects\\DataVision\\.venv\\Lib\\site-packages\\pandas\\core\\api.py:9\u001B[39m\n\u001B[32m      1\u001B[39m \u001B[38;5;28;01mfrom\u001B[39;00m\u001B[38;5;250m \u001B[39m\u001B[34;01mpandas\u001B[39;00m\u001B[34;01m.\u001B[39;00m\u001B[34;01m_libs\u001B[39;00m\u001B[38;5;250m \u001B[39m\u001B[38;5;28;01mimport\u001B[39;00m (\n\u001B[32m      2\u001B[39m     NaT,\n\u001B[32m      3\u001B[39m     Period,\n\u001B[32m      4\u001B[39m     Timedelta,\n\u001B[32m      5\u001B[39m     Timestamp,\n\u001B[32m      6\u001B[39m )\n\u001B[32m      7\u001B[39m \u001B[38;5;28;01mfrom\u001B[39;00m\u001B[38;5;250m \u001B[39m\u001B[34;01mpandas\u001B[39;00m\u001B[34;01m.\u001B[39;00m\u001B[34;01m_libs\u001B[39;00m\u001B[34;01m.\u001B[39;00m\u001B[34;01mmissing\u001B[39;00m\u001B[38;5;250m \u001B[39m\u001B[38;5;28;01mimport\u001B[39;00m NA\n\u001B[32m----> \u001B[39m\u001B[32m9\u001B[39m \u001B[38;5;28;01mfrom\u001B[39;00m\u001B[38;5;250m \u001B[39m\u001B[34;01mpandas\u001B[39;00m\u001B[34;01m.\u001B[39;00m\u001B[34;01mcore\u001B[39;00m\u001B[34;01m.\u001B[39;00m\u001B[34;01mdtypes\u001B[39;00m\u001B[34;01m.\u001B[39;00m\u001B[34;01mdtypes\u001B[39;00m\u001B[38;5;250m \u001B[39m\u001B[38;5;28;01mimport\u001B[39;00m (\n\u001B[32m     10\u001B[39m     ArrowDtype,\n\u001B[32m     11\u001B[39m     CategoricalDtype,\n\u001B[32m     12\u001B[39m     DatetimeTZDtype,\n\u001B[32m     13\u001B[39m     IntervalDtype,\n\u001B[32m     14\u001B[39m     PeriodDtype,\n\u001B[32m     15\u001B[39m )\n\u001B[32m     16\u001B[39m \u001B[38;5;28;01mfrom\u001B[39;00m\u001B[38;5;250m \u001B[39m\u001B[34;01mpandas\u001B[39;00m\u001B[34;01m.\u001B[39;00m\u001B[34;01mcore\u001B[39;00m\u001B[34;01m.\u001B[39;00m\u001B[34;01mdtypes\u001B[39;00m\u001B[34;01m.\u001B[39;00m\u001B[34;01mmissing\u001B[39;00m\u001B[38;5;250m \u001B[39m\u001B[38;5;28;01mimport\u001B[39;00m (\n\u001B[32m     17\u001B[39m     isna,\n\u001B[32m     18\u001B[39m     isnull,\n\u001B[32m     19\u001B[39m     notna,\n\u001B[32m     20\u001B[39m     notnull,\n\u001B[32m     21\u001B[39m )\n\u001B[32m     23\u001B[39m \u001B[38;5;28;01mfrom\u001B[39;00m\u001B[38;5;250m \u001B[39m\u001B[34;01mpandas\u001B[39;00m\u001B[34;01m.\u001B[39;00m\u001B[34;01mcore\u001B[39;00m\u001B[34;01m.\u001B[39;00m\u001B[34;01malgorithms\u001B[39;00m\u001B[38;5;250m \u001B[39m\u001B[38;5;28;01mimport\u001B[39;00m (\n\u001B[32m     24\u001B[39m     factorize,\n\u001B[32m     25\u001B[39m     unique,\n\u001B[32m     26\u001B[39m     value_counts,\n\u001B[32m     27\u001B[39m )\n",
      "\u001B[36mFile \u001B[39m\u001B[32m~\\IdeaProjects\\DataVision\\.venv\\Lib\\site-packages\\pandas\\core\\dtypes\\dtypes.py:24\u001B[39m\n\u001B[32m     21\u001B[39m \u001B[38;5;28;01mimport\u001B[39;00m\u001B[38;5;250m \u001B[39m\u001B[34;01mnumpy\u001B[39;00m\u001B[38;5;250m \u001B[39m\u001B[38;5;28;01mas\u001B[39;00m\u001B[38;5;250m \u001B[39m\u001B[34;01mnp\u001B[39;00m\n\u001B[32m     22\u001B[39m \u001B[38;5;28;01mimport\u001B[39;00m\u001B[38;5;250m \u001B[39m\u001B[34;01mpytz\u001B[39;00m\n\u001B[32m---> \u001B[39m\u001B[32m24\u001B[39m \u001B[38;5;28;01mfrom\u001B[39;00m\u001B[38;5;250m \u001B[39m\u001B[34;01mpandas\u001B[39;00m\u001B[34;01m.\u001B[39;00m\u001B[34;01m_libs\u001B[39;00m\u001B[38;5;250m \u001B[39m\u001B[38;5;28;01mimport\u001B[39;00m (\n\u001B[32m     25\u001B[39m     lib,\n\u001B[32m     26\u001B[39m     missing \u001B[38;5;28;01mas\u001B[39;00m libmissing,\n\u001B[32m     27\u001B[39m )\n\u001B[32m     28\u001B[39m \u001B[38;5;28;01mfrom\u001B[39;00m\u001B[38;5;250m \u001B[39m\u001B[34;01mpandas\u001B[39;00m\u001B[34;01m.\u001B[39;00m\u001B[34;01m_libs\u001B[39;00m\u001B[34;01m.\u001B[39;00m\u001B[34;01minterval\u001B[39;00m\u001B[38;5;250m \u001B[39m\u001B[38;5;28;01mimport\u001B[39;00m Interval\n\u001B[32m     29\u001B[39m \u001B[38;5;28;01mfrom\u001B[39;00m\u001B[38;5;250m \u001B[39m\u001B[34;01mpandas\u001B[39;00m\u001B[34;01m.\u001B[39;00m\u001B[34;01m_libs\u001B[39;00m\u001B[34;01m.\u001B[39;00m\u001B[34;01mproperties\u001B[39;00m\u001B[38;5;250m \u001B[39m\u001B[38;5;28;01mimport\u001B[39;00m cache_readonly\n",
      "\u001B[36mFile \u001B[39m\u001B[32mlib.pyx:86\u001B[39m, in \u001B[36minit pandas._libs.lib\u001B[39m\u001B[34m()\u001B[39m\n",
      "\u001B[36mFile \u001B[39m\u001B[32m<frozen importlib._bootstrap>:1400\u001B[39m, in \u001B[36m_handle_fromlist\u001B[39m\u001B[34m(module, fromlist, import_, recursive)\u001B[39m\n",
      "\u001B[31mAttributeError\u001B[39m: partially initialized module 'pandas' from 'C:\\Users\\moham\\IdeaProjects\\DataVision\\.venv\\Lib\\site-packages\\pandas\\__init__.py' has no attribute '_pandas_parser_CAPI' (most likely due to a circular import)"
     ]
    }
   ],
   "execution_count": 6
  },
  {
   "metadata": {},
   "cell_type": "code",
   "outputs": [],
   "execution_count": null,
   "source": "",
   "id": "b671966818aecff3"
  }
 ],
 "metadata": {
  "kernelspec": {
   "display_name": "Python 3",
   "language": "python",
   "name": "python3"
  },
  "language_info": {
   "codemirror_mode": {
    "name": "ipython",
    "version": 2
   },
   "file_extension": ".py",
   "mimetype": "text/x-python",
   "name": "python",
   "nbconvert_exporter": "python",
   "pygments_lexer": "ipython2",
   "version": "2.7.6"
  }
 },
 "nbformat": 4,
 "nbformat_minor": 5
}
