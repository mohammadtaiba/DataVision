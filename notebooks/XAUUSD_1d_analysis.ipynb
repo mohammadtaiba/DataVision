{
 "cells": [
  {
   "cell_type": "markdown",
   "id": "2edcc9a74f445691",
   "metadata": {},
   "source": [
    "## Data Description Report erstellen:"
   ]
  },
  {
   "cell_type": "code",
   "id": "initial_id",
   "metadata": {
    "collapsed": true
   },
   "source": [
    "# Data Description Report:\n",
    "\n",
    "import pandas as pd\n",
    "\n",
    "df = pd.read_csv(\"../dataset/input/XAUUSD_1d_analysis.csv\", sep=';')\n",
    "\n",
    "print(\"🧾 Allgemeine Datenstruktur:\")\n",
    "display(df.info())\n",
    "\n",
    "print(\"📌 Fehlende Werte:\")\n",
    "display(df.isnull().sum())\n",
    "\n",
    "print(\"🔍 Statistische Übersicht:\")\n",
    "\n",
    "# Strings in Zahlen umwandeln (außer Datum)\n",
    "for col in ['Open', 'High', 'Low', 'Close', 'Volume']:\n",
    "    df[col] = pd.to_numeric(df[col], errors='coerce')\n",
    "\n",
    "display(df.describe())\n",
    "\n",
    "print(\"📅 Erste Zeilen der Daten:\")\n",
    "display(df.head())\n"
   ],
   "outputs": [],
   "execution_count": null
  },
  {
   "metadata": {},
   "cell_type": "markdown",
   "source": "## Datenbereinigung & Aufbereitung",
   "id": "ac3b0a88f7f7e28a"
  },
  {
   "metadata": {
    "ExecuteTime": {
     "end_time": "2025-05-30T08:06:26.263013Z",
     "start_time": "2025-05-30T08:06:25.850581Z"
    }
   },
   "cell_type": "code",
   "source": [
    "import pandas as pd\n",
    "\n",
    "# 1. Pfade anpassen\n",
    "csv_path   = '../dataset/input/XAUUSD_1d_analysis.csv'\n",
    "clean_path = '../dataset/output/XAUUSD_1d_analysis_clean.csv'\n",
    "\n",
    "# 2. Daten einlesen mit ; als Trennzeichen\n",
    "df = pd.read_csv(csv_path, sep=';')\n",
    "\n",
    "# 3. Spaltennamen standardisieren\n",
    "df.columns = [col.lower().replace(' ', '_') for col in df.columns]\n",
    "\n",
    "# 4. Datum parsen (deutsches Format)\n",
    "df['date'] = pd.to_datetime(df['date'], format='%d.%m.%Y %H:%M', errors='coerce', utc=True)\n",
    "\n",
    "# 5. Duplikate und fehlende Werte entfernen\n",
    "keep_cols = ['date', 'open', 'high', 'low', 'close', 'volume']\n",
    "df = df.drop_duplicates(subset=['date'])\n",
    "df = df.dropna(subset=keep_cols)\n",
    "\n",
    "# 6. Spalten umbenennen\n",
    "df = df[keep_cols].rename(columns={\n",
    "    'date': 'date_xau',\n",
    "    'open': 'open_xau',\n",
    "    'high': 'high_xau',\n",
    "    'low':  'low_xau',\n",
    "    'close':'close_xau',\n",
    "    'volume': 'volume_xau'\n",
    "})\n",
    "\n",
    "# 7. Sortieren und Index zurücksetzen\n",
    "df = df.sort_values('date_xau').reset_index(drop=True)\n",
    "\n",
    "# 8. Speichern und Kontrolle\n",
    "df.to_csv(clean_path, index=False)\n",
    "print(df.head())"
   ],
   "id": "3efb47e8c4daf8a6",
   "outputs": [
    {
     "name": "stdout",
     "output_type": "stream",
     "text": [
      "                   date_xau open_xau high_xau low_xau close_xau  volume_xau\n",
      "0 2004-06-11 00:00:00+00:00      384    384.8   382.8     384.1         272\n",
      "1 2004-06-14 00:00:00+00:00    384.3    385.8   381.8     382.8        1902\n",
      "2 2004-06-15 00:00:00+00:00    382.8    388.8   381.1     388.6        1951\n",
      "3 2004-06-16 00:00:00+00:00    387.1    389.8   382.6     383.8        2014\n",
      "4 2004-06-17 00:00:00+00:00    383.6    389.3     383     387.6        1568\n"
     ]
    }
   ],
   "execution_count": 1
  }
 ],
 "metadata": {
  "kernelspec": {
   "display_name": "venv",
   "language": "python",
   "name": "python3"
  },
  "language_info": {
   "codemirror_mode": {
    "name": "ipython",
    "version": 3
   },
   "file_extension": ".py",
   "mimetype": "text/x-python",
   "name": "python",
   "nbconvert_exporter": "python",
   "pygments_lexer": "ipython3",
   "version": "3.13.3"
  }
 },
 "nbformat": 4,
 "nbformat_minor": 5
}
