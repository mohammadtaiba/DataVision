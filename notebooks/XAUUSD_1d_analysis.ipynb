{
 "cells": [
  {
   "metadata": {
    "collapsed": true,
    "ExecuteTime": {
     "end_time": "2025-05-19T14:59:16.789514Z",
     "start_time": "2025-05-19T14:59:16.742867Z"
    }
   },
   "cell_type": "code",
   "source": [
    "# Data Description Report:\n",
    "\n",
    "import pandas as pd\n",
    "\n",
    "df = pd.read_csv(\"../dataset/XAUUSD_1d_analysis.csv\", sep=';')\n",
    "\n",
    "print(\"🧾 Allgemeine Datenstruktur:\")\n",
    "display(df.info())\n",
    "\n",
    "print(\"📌 Fehlende Werte:\")\n",
    "display(df.isnull().sum())\n",
    "\n",
    "print(\"🔍 Statistische Übersicht:\")\n",
    "\n",
    "# Strings in Zahlen umwandeln (außer Datum)\n",
    "for col in ['Open', 'High', 'Low', 'Close', 'Volume']:\n",
    "    df[col] = pd.to_numeric(df[col], errors='coerce')\n",
    "\n",
    "display(df.describe())\n",
    "\n",
    "print(\"📅 Erste Zeilen der Daten:\")\n",
    "display(df.head())\n"
   ],
   "id": "initial_id",
   "outputs": [
    {
     "name": "stdout",
     "output_type": "stream",
     "text": [
      "🧾 Allgemeine Datenstruktur:\n",
      "<class 'pandas.core.frame.DataFrame'>\n",
      "RangeIndex: 5295 entries, 0 to 5294\n",
      "Data columns (total 6 columns):\n",
      " #   Column  Non-Null Count  Dtype \n",
      "---  ------  --------------  ----- \n",
      " 0   Date    5295 non-null   object\n",
      " 1   Open    5295 non-null   object\n",
      " 2   High    5295 non-null   object\n",
      " 3   Low     5295 non-null   object\n",
      " 4   Close   5295 non-null   object\n",
      " 5   Volume  5295 non-null   int64 \n",
      "dtypes: int64(1), object(5)\n",
      "memory usage: 248.3+ KB\n"
     ]
    },
    {
     "data": {
      "text/plain": [
       "None"
      ]
     },
     "metadata": {},
     "output_type": "display_data"
    },
    {
     "name": "stdout",
     "output_type": "stream",
     "text": [
      "📌 Fehlende Werte:\n"
     ]
    },
    {
     "data": {
      "text/plain": [
       "Date      0\n",
       "Open      0\n",
       "High      0\n",
       "Low       0\n",
       "Close     0\n",
       "Volume    0\n",
       "dtype: int64"
      ]
     },
     "metadata": {},
     "output_type": "display_data"
    },
    {
     "name": "stdout",
     "output_type": "stream",
     "text": [
      "🔍 Statistische Übersicht:\n"
     ]
    },
    {
     "data": {
      "text/plain": [
       "              Open         High          Low        Close         Volume\n",
       "count  5287.000000  5278.000000  5278.000000  5291.000000    5295.000000\n",
       "mean   1320.936333  1331.188797  1311.749625  1320.831043   76829.566572\n",
       "std     501.879198   505.180037   499.070684   501.993326   65158.391637\n",
       "min     382.800000   384.800000   381.100000   382.800000       2.000000\n",
       "25%     993.140000  1006.535000   986.047500   989.675000   23864.000000\n",
       "50%    1289.450000  1295.835000  1281.935000  1288.860000   70632.000000\n",
       "75%    1707.865000  1718.495000  1692.065000  1707.820000  111406.500000\n",
       "max    2795.080000  2817.230000  2794.210000  2799.230000  679039.000000"
      ],
      "text/html": [
       "<div>\n",
       "<style scoped>\n",
       "    .dataframe tbody tr th:only-of-type {\n",
       "        vertical-align: middle;\n",
       "    }\n",
       "\n",
       "    .dataframe tbody tr th {\n",
       "        vertical-align: top;\n",
       "    }\n",
       "\n",
       "    .dataframe thead th {\n",
       "        text-align: right;\n",
       "    }\n",
       "</style>\n",
       "<table border=\"1\" class=\"dataframe\">\n",
       "  <thead>\n",
       "    <tr style=\"text-align: right;\">\n",
       "      <th></th>\n",
       "      <th>Open</th>\n",
       "      <th>High</th>\n",
       "      <th>Low</th>\n",
       "      <th>Close</th>\n",
       "      <th>Volume</th>\n",
       "    </tr>\n",
       "  </thead>\n",
       "  <tbody>\n",
       "    <tr>\n",
       "      <th>count</th>\n",
       "      <td>5287.000000</td>\n",
       "      <td>5278.000000</td>\n",
       "      <td>5278.000000</td>\n",
       "      <td>5291.000000</td>\n",
       "      <td>5295.000000</td>\n",
       "    </tr>\n",
       "    <tr>\n",
       "      <th>mean</th>\n",
       "      <td>1320.936333</td>\n",
       "      <td>1331.188797</td>\n",
       "      <td>1311.749625</td>\n",
       "      <td>1320.831043</td>\n",
       "      <td>76829.566572</td>\n",
       "    </tr>\n",
       "    <tr>\n",
       "      <th>std</th>\n",
       "      <td>501.879198</td>\n",
       "      <td>505.180037</td>\n",
       "      <td>499.070684</td>\n",
       "      <td>501.993326</td>\n",
       "      <td>65158.391637</td>\n",
       "    </tr>\n",
       "    <tr>\n",
       "      <th>min</th>\n",
       "      <td>382.800000</td>\n",
       "      <td>384.800000</td>\n",
       "      <td>381.100000</td>\n",
       "      <td>382.800000</td>\n",
       "      <td>2.000000</td>\n",
       "    </tr>\n",
       "    <tr>\n",
       "      <th>25%</th>\n",
       "      <td>993.140000</td>\n",
       "      <td>1006.535000</td>\n",
       "      <td>986.047500</td>\n",
       "      <td>989.675000</td>\n",
       "      <td>23864.000000</td>\n",
       "    </tr>\n",
       "    <tr>\n",
       "      <th>50%</th>\n",
       "      <td>1289.450000</td>\n",
       "      <td>1295.835000</td>\n",
       "      <td>1281.935000</td>\n",
       "      <td>1288.860000</td>\n",
       "      <td>70632.000000</td>\n",
       "    </tr>\n",
       "    <tr>\n",
       "      <th>75%</th>\n",
       "      <td>1707.865000</td>\n",
       "      <td>1718.495000</td>\n",
       "      <td>1692.065000</td>\n",
       "      <td>1707.820000</td>\n",
       "      <td>111406.500000</td>\n",
       "    </tr>\n",
       "    <tr>\n",
       "      <th>max</th>\n",
       "      <td>2795.080000</td>\n",
       "      <td>2817.230000</td>\n",
       "      <td>2794.210000</td>\n",
       "      <td>2799.230000</td>\n",
       "      <td>679039.000000</td>\n",
       "    </tr>\n",
       "  </tbody>\n",
       "</table>\n",
       "</div>"
      ]
     },
     "metadata": {},
     "output_type": "display_data"
    },
    {
     "name": "stdout",
     "output_type": "stream",
     "text": [
      "📅 Erste Zeilen der Daten:\n"
     ]
    },
    {
     "data": {
      "text/plain": [
       "               Date   Open   High    Low  Close  Volume\n",
       "0  11.06.2004 00:00  384.0  384.8  382.8  384.1     272\n",
       "1  14.06.2004 00:00  384.3  385.8  381.8  382.8    1902\n",
       "2  15.06.2004 00:00  382.8  388.8  381.1  388.6    1951\n",
       "3  16.06.2004 00:00  387.1  389.8  382.6  383.8    2014\n",
       "4  17.06.2004 00:00  383.6  389.3  383.0  387.6    1568"
      ],
      "text/html": [
       "<div>\n",
       "<style scoped>\n",
       "    .dataframe tbody tr th:only-of-type {\n",
       "        vertical-align: middle;\n",
       "    }\n",
       "\n",
       "    .dataframe tbody tr th {\n",
       "        vertical-align: top;\n",
       "    }\n",
       "\n",
       "    .dataframe thead th {\n",
       "        text-align: right;\n",
       "    }\n",
       "</style>\n",
       "<table border=\"1\" class=\"dataframe\">\n",
       "  <thead>\n",
       "    <tr style=\"text-align: right;\">\n",
       "      <th></th>\n",
       "      <th>Date</th>\n",
       "      <th>Open</th>\n",
       "      <th>High</th>\n",
       "      <th>Low</th>\n",
       "      <th>Close</th>\n",
       "      <th>Volume</th>\n",
       "    </tr>\n",
       "  </thead>\n",
       "  <tbody>\n",
       "    <tr>\n",
       "      <th>0</th>\n",
       "      <td>11.06.2004 00:00</td>\n",
       "      <td>384.0</td>\n",
       "      <td>384.8</td>\n",
       "      <td>382.8</td>\n",
       "      <td>384.1</td>\n",
       "      <td>272</td>\n",
       "    </tr>\n",
       "    <tr>\n",
       "      <th>1</th>\n",
       "      <td>14.06.2004 00:00</td>\n",
       "      <td>384.3</td>\n",
       "      <td>385.8</td>\n",
       "      <td>381.8</td>\n",
       "      <td>382.8</td>\n",
       "      <td>1902</td>\n",
       "    </tr>\n",
       "    <tr>\n",
       "      <th>2</th>\n",
       "      <td>15.06.2004 00:00</td>\n",
       "      <td>382.8</td>\n",
       "      <td>388.8</td>\n",
       "      <td>381.1</td>\n",
       "      <td>388.6</td>\n",
       "      <td>1951</td>\n",
       "    </tr>\n",
       "    <tr>\n",
       "      <th>3</th>\n",
       "      <td>16.06.2004 00:00</td>\n",
       "      <td>387.1</td>\n",
       "      <td>389.8</td>\n",
       "      <td>382.6</td>\n",
       "      <td>383.8</td>\n",
       "      <td>2014</td>\n",
       "    </tr>\n",
       "    <tr>\n",
       "      <th>4</th>\n",
       "      <td>17.06.2004 00:00</td>\n",
       "      <td>383.6</td>\n",
       "      <td>389.3</td>\n",
       "      <td>383.0</td>\n",
       "      <td>387.6</td>\n",
       "      <td>1568</td>\n",
       "    </tr>\n",
       "  </tbody>\n",
       "</table>\n",
       "</div>"
      ]
     },
     "metadata": {},
     "output_type": "display_data"
    }
   ],
   "execution_count": 10
  }
 ],
 "metadata": {
  "kernelspec": {
   "display_name": "Python 3",
   "language": "python",
   "name": "python3"
  },
  "language_info": {
   "codemirror_mode": {
    "name": "ipython",
    "version": 2
   },
   "file_extension": ".py",
   "mimetype": "text/x-python",
   "name": "python",
   "nbconvert_exporter": "python",
   "pygments_lexer": "ipython2",
   "version": "2.7.6"
  }
 },
 "nbformat": 4,
 "nbformat_minor": 5
}
