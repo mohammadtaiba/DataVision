{
 "cells": [
  {
   "metadata": {},
   "cell_type": "markdown",
   "source": "## Data Description Report erstellen:",
   "id": "2edcc9a74f445691"
  },
  {
   "metadata": {
    "collapsed": true
   },
   "cell_type": "code",
   "source": [
    "# Data Description Report:\n",
    "\n",
    "import pandas as pd\n",
    "\n",
    "df = pd.read_csv(\"../dataset/XAUUSD_1d_analysis.csv\", sep=';')\n",
    "\n",
    "print(\"🧾 Allgemeine Datenstruktur:\")\n",
    "display(df.info())\n",
    "\n",
    "print(\"📌 Fehlende Werte:\")\n",
    "display(df.isnull().sum())\n",
    "\n",
    "print(\"🔍 Statistische Übersicht:\")\n",
    "\n",
    "# Strings in Zahlen umwandeln (außer Datum)\n",
    "for col in ['Open', 'High', 'Low', 'Close', 'Volume']:\n",
    "    df[col] = pd.to_numeric(df[col], errors='coerce')\n",
    "\n",
    "display(df.describe())\n",
    "\n",
    "print(\"📅 Erste Zeilen der Daten:\")\n",
    "display(df.head())\n"
   ],
   "id": "initial_id",
   "outputs": [],
   "execution_count": null
  }
 ],
 "metadata": {
  "kernelspec": {
   "display_name": "Python 3",
   "language": "python",
   "name": "python3"
  },
  "language_info": {
   "codemirror_mode": {
    "name": "ipython",
    "version": 2
   },
   "file_extension": ".py",
   "mimetype": "text/x-python",
   "name": "python",
   "nbconvert_exporter": "python",
   "pygments_lexer": "ipython2",
   "version": "2.7.6"
  }
 },
 "nbformat": 4,
 "nbformat_minor": 5
}
